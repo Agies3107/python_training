{
 "cells": [
  {
   "cell_type": "markdown",
   "metadata": {},
   "source": [
    "## Homework Python Programming for data analytics III\n",
    "\n",
    "\n",
    " <br>Author : Agies Soja Frisyalina \n",
    " <br>NIK : 85068 \n",
    " <br>Email : mailto:agiessfrisyalina@telkomsel.co.id\n"
   ]
  },
  {
   "cell_type": "markdown",
   "metadata": {},
   "source": [
    "# Case Study\n",
    "## Titanic\n",
    "\n",
    "This is one of many competitions that Kaggle provided. As we know, the sinking of the RMS Titanic is one of the most infamous shipwrecks in history. On April 15, 1912, during her maiden voyage, the Titanic sank after colliding with an iceberg, killing 1502 out of 2224 passengers and crew. The purpose of this challenge is to complete the analysis of what sorts of people were likely to survive or in particular is to apply the tools of machine learning to predict which passengers survived the tragedy.\n",
    "\n",
    "Link from Kaggle: https://www.kaggle.com/c/titanic"
   ]
  },
  {
   "cell_type": "markdown",
   "metadata": {},
   "source": [
    "### Load Data"
   ]
  },
  {
   "cell_type": "code",
   "execution_count": 3,
   "metadata": {},
   "outputs": [],
   "source": [
    "import matplotlib.pyplot as plt\n",
    "import numpy as np\n",
    "import pandas as pd\n",
    "import seaborn as sns"
   ]
  },
  {
   "cell_type": "code",
   "execution_count": 4,
   "metadata": {},
   "outputs": [
    {
     "data": {
      "text/html": [
       "<div>\n",
       "<style scoped>\n",
       "    .dataframe tbody tr th:only-of-type {\n",
       "        vertical-align: middle;\n",
       "    }\n",
       "\n",
       "    .dataframe tbody tr th {\n",
       "        vertical-align: top;\n",
       "    }\n",
       "\n",
       "    .dataframe thead th {\n",
       "        text-align: right;\n",
       "    }\n",
       "</style>\n",
       "<table border=\"1\" class=\"dataframe\">\n",
       "  <thead>\n",
       "    <tr style=\"text-align: right;\">\n",
       "      <th></th>\n",
       "      <th>PassengerId</th>\n",
       "      <th>Survived</th>\n",
       "      <th>Pclass</th>\n",
       "      <th>Name</th>\n",
       "      <th>Sex</th>\n",
       "      <th>Age</th>\n",
       "      <th>SibSp</th>\n",
       "      <th>Parch</th>\n",
       "      <th>Ticket</th>\n",
       "      <th>Fare</th>\n",
       "      <th>Cabin</th>\n",
       "      <th>Embarked</th>\n",
       "    </tr>\n",
       "  </thead>\n",
       "  <tbody>\n",
       "    <tr>\n",
       "      <th>0</th>\n",
       "      <td>1</td>\n",
       "      <td>0</td>\n",
       "      <td>3</td>\n",
       "      <td>Braund, Mr. Owen Harris</td>\n",
       "      <td>male</td>\n",
       "      <td>22.0</td>\n",
       "      <td>1</td>\n",
       "      <td>0</td>\n",
       "      <td>A/5 21171</td>\n",
       "      <td>7.2500</td>\n",
       "      <td>NaN</td>\n",
       "      <td>S</td>\n",
       "    </tr>\n",
       "    <tr>\n",
       "      <th>1</th>\n",
       "      <td>2</td>\n",
       "      <td>1</td>\n",
       "      <td>1</td>\n",
       "      <td>Cumings, Mrs. John Bradley (Florence Briggs Th...</td>\n",
       "      <td>female</td>\n",
       "      <td>38.0</td>\n",
       "      <td>1</td>\n",
       "      <td>0</td>\n",
       "      <td>PC 17599</td>\n",
       "      <td>71.2833</td>\n",
       "      <td>C85</td>\n",
       "      <td>C</td>\n",
       "    </tr>\n",
       "    <tr>\n",
       "      <th>2</th>\n",
       "      <td>3</td>\n",
       "      <td>1</td>\n",
       "      <td>3</td>\n",
       "      <td>Heikkinen, Miss. Laina</td>\n",
       "      <td>female</td>\n",
       "      <td>26.0</td>\n",
       "      <td>0</td>\n",
       "      <td>0</td>\n",
       "      <td>STON/O2. 3101282</td>\n",
       "      <td>7.9250</td>\n",
       "      <td>NaN</td>\n",
       "      <td>S</td>\n",
       "    </tr>\n",
       "    <tr>\n",
       "      <th>3</th>\n",
       "      <td>4</td>\n",
       "      <td>1</td>\n",
       "      <td>1</td>\n",
       "      <td>Futrelle, Mrs. Jacques Heath (Lily May Peel)</td>\n",
       "      <td>female</td>\n",
       "      <td>35.0</td>\n",
       "      <td>1</td>\n",
       "      <td>0</td>\n",
       "      <td>113803</td>\n",
       "      <td>53.1000</td>\n",
       "      <td>C123</td>\n",
       "      <td>S</td>\n",
       "    </tr>\n",
       "    <tr>\n",
       "      <th>4</th>\n",
       "      <td>5</td>\n",
       "      <td>0</td>\n",
       "      <td>3</td>\n",
       "      <td>Allen, Mr. William Henry</td>\n",
       "      <td>male</td>\n",
       "      <td>35.0</td>\n",
       "      <td>0</td>\n",
       "      <td>0</td>\n",
       "      <td>373450</td>\n",
       "      <td>8.0500</td>\n",
       "      <td>NaN</td>\n",
       "      <td>S</td>\n",
       "    </tr>\n",
       "  </tbody>\n",
       "</table>\n",
       "</div>"
      ],
      "text/plain": [
       "   PassengerId  Survived  Pclass  \\\n",
       "0            1         0       3   \n",
       "1            2         1       1   \n",
       "2            3         1       3   \n",
       "3            4         1       1   \n",
       "4            5         0       3   \n",
       "\n",
       "                                                Name     Sex   Age  SibSp  \\\n",
       "0                            Braund, Mr. Owen Harris    male  22.0      1   \n",
       "1  Cumings, Mrs. John Bradley (Florence Briggs Th...  female  38.0      1   \n",
       "2                             Heikkinen, Miss. Laina  female  26.0      0   \n",
       "3       Futrelle, Mrs. Jacques Heath (Lily May Peel)  female  35.0      1   \n",
       "4                           Allen, Mr. William Henry    male  35.0      0   \n",
       "\n",
       "   Parch            Ticket     Fare Cabin Embarked  \n",
       "0      0         A/5 21171   7.2500   NaN        S  \n",
       "1      0          PC 17599  71.2833   C85        C  \n",
       "2      0  STON/O2. 3101282   7.9250   NaN        S  \n",
       "3      0            113803  53.1000  C123        S  \n",
       "4      0            373450   8.0500   NaN        S  "
      ]
     },
     "execution_count": 4,
     "metadata": {},
     "output_type": "execute_result"
    }
   ],
   "source": [
    "titanic=pd.read_csv('train.csv')\n",
    "titanic.head()"
   ]
  },
  {
   "cell_type": "code",
   "execution_count": 18,
   "metadata": {},
   "outputs": [
    {
     "name": "stdout",
     "output_type": "stream",
     "text": [
      "<class 'pandas.core.frame.DataFrame'>\n",
      "RangeIndex: 891 entries, 0 to 890\n",
      "Data columns (total 12 columns):\n",
      "PassengerId    891 non-null int64\n",
      "Survived       891 non-null int64\n",
      "Pclass         891 non-null int64\n",
      "Name           891 non-null object\n",
      "Sex            891 non-null object\n",
      "Age            714 non-null float64\n",
      "SibSp          891 non-null int64\n",
      "Parch          891 non-null int64\n",
      "Ticket         891 non-null object\n",
      "Fare           891 non-null float64\n",
      "Cabin          204 non-null object\n",
      "Embarked       889 non-null object\n",
      "dtypes: float64(2), int64(5), object(5)\n",
      "memory usage: 83.6+ KB\n"
     ]
    }
   ],
   "source": [
    "titanic.info()"
   ]
  },
  {
   "cell_type": "code",
   "execution_count": 19,
   "metadata": {},
   "outputs": [
    {
     "data": {
      "text/plain": [
       "PassengerId      0\n",
       "Survived         0\n",
       "Pclass           0\n",
       "Name             0\n",
       "Sex              0\n",
       "Age            177\n",
       "SibSp            0\n",
       "Parch            0\n",
       "Ticket           0\n",
       "Fare             0\n",
       "Cabin          687\n",
       "Embarked         2\n",
       "dtype: int64"
      ]
     },
     "execution_count": 19,
     "metadata": {},
     "output_type": "execute_result"
    }
   ],
   "source": [
    "titanic.isnull().sum()"
   ]
  },
  {
   "cell_type": "code",
   "execution_count": 10,
   "metadata": {},
   "outputs": [
    {
     "data": {
      "text/plain": [
       "Text(0.5,1,'Titanic Survivors')"
      ]
     },
     "execution_count": 10,
     "metadata": {},
     "output_type": "execute_result"
    },
    {
     "data": {
      "image/png": "[encoded data removed]",
      "text/plain": [
       "<Figure size 432x288 with 1 Axes>"
      ]
     },
     "metadata": {
      "needs_background": "light"
     },
     "output_type": "display_data"
    }
   ],
   "source": [
    "#Survivor of Titanic\n",
    "def Survived_group(data):\n",
    "    data['Survived_group'] = 'NaN'\n",
    "    data.loc[data['Survived'] <= 0, 'Survived_group'] = 'Dead' \n",
    "    data.loc[data['Survived'] >= 1, 'Survived_group'] = 'Alive' \n",
    "    return data\n",
    "titanic = Survived_group(titanic)          \n",
    "titanic['Survived_group']=titanic['Survived_group'].replace('NaN','Unknown')\n",
    "titanic['Survived_group'] = titanic['Survived_group'].astype(str)\n",
    "\n",
    "\n",
    "sns.countplot('Survived_group', data = titanic)\n",
    "plt.title('Titanic Survivors')"
   ]
  },
  {
   "cell_type": "markdown",
   "metadata": {},
   "source": [
    "## Feature: Sex"
   ]
  },
  {
   "cell_type": "code",
   "execution_count": 13,
   "metadata": {},
   "outputs": [
    {
     "data": {
      "text/html": [
       "<style  type=\"text/css\" >\n",
       "    #T_317c9a1e_008b_11ea_bef6_1002b5e8806drow0_col0 {\n",
       "            background-color:  #77bb66;\n",
       "        }    #T_317c9a1e_008b_11ea_bef6_1002b5e8806drow0_col1 {\n",
       "            background-color:  #ffff66;\n",
       "        }    #T_317c9a1e_008b_11ea_bef6_1002b5e8806drow0_col2 {\n",
       "            background-color:  #ffff66;\n",
       "        }    #T_317c9a1e_008b_11ea_bef6_1002b5e8806drow1_col0 {\n",
       "            background-color:  #ffff66;\n",
       "        }    #T_317c9a1e_008b_11ea_bef6_1002b5e8806drow1_col1 {\n",
       "            background-color:  #2c9666;\n",
       "        }    #T_317c9a1e_008b_11ea_bef6_1002b5e8806drow1_col2 {\n",
       "            background-color:  #8bc566;\n",
       "        }    #T_317c9a1e_008b_11ea_bef6_1002b5e8806drow2_col0 {\n",
       "            background-color:  #008066;\n",
       "        }    #T_317c9a1e_008b_11ea_bef6_1002b5e8806drow2_col1 {\n",
       "            background-color:  #008066;\n",
       "        }    #T_317c9a1e_008b_11ea_bef6_1002b5e8806drow2_col2 {\n",
       "            background-color:  #008066;\n",
       "        }</style>  \n",
       "<table id=\"T_317c9a1e_008b_11ea_bef6_1002b5e8806d\" > \n",
       "<thead>    <tr> \n",
       "        <th class=\"index_name level0\" >Survived_group</th> \n",
       "        <th class=\"col_heading level0 col0\" >Alive</th> \n",
       "        <th class=\"col_heading level0 col1\" >Dead</th> \n",
       "        <th class=\"col_heading level0 col2\" >All</th> \n",
       "    </tr>    <tr> \n",
       "        <th class=\"index_name level0\" >Sex</th> \n",
       "        <th class=\"blank\" ></th> \n",
       "        <th class=\"blank\" ></th> \n",
       "        <th class=\"blank\" ></th> \n",
       "    </tr></thead> \n",
       "<tbody>    <tr> \n",
       "        <th id=\"T_317c9a1e_008b_11ea_bef6_1002b5e8806dlevel0_row0\" class=\"row_heading level0 row0\" >female</th> \n",
       "        <td id=\"T_317c9a1e_008b_11ea_bef6_1002b5e8806drow0_col0\" class=\"data row0 col0\" >233</td> \n",
       "        <td id=\"T_317c9a1e_008b_11ea_bef6_1002b5e8806drow0_col1\" class=\"data row0 col1\" >81</td> \n",
       "        <td id=\"T_317c9a1e_008b_11ea_bef6_1002b5e8806drow0_col2\" class=\"data row0 col2\" >314</td> \n",
       "    </tr>    <tr> \n",
       "        <th id=\"T_317c9a1e_008b_11ea_bef6_1002b5e8806dlevel0_row1\" class=\"row_heading level0 row1\" >male</th> \n",
       "        <td id=\"T_317c9a1e_008b_11ea_bef6_1002b5e8806drow1_col0\" class=\"data row1 col0\" >109</td> \n",
       "        <td id=\"T_317c9a1e_008b_11ea_bef6_1002b5e8806drow1_col1\" class=\"data row1 col1\" >468</td> \n",
       "        <td id=\"T_317c9a1e_008b_11ea_bef6_1002b5e8806drow1_col2\" class=\"data row1 col2\" >577</td> \n",
       "    </tr>    <tr> \n",
       "        <th id=\"T_317c9a1e_008b_11ea_bef6_1002b5e8806dlevel0_row2\" class=\"row_heading level0 row2\" >All</th> \n",
       "        <td id=\"T_317c9a1e_008b_11ea_bef6_1002b5e8806drow2_col0\" class=\"data row2 col0\" >342</td> \n",
       "        <td id=\"T_317c9a1e_008b_11ea_bef6_1002b5e8806drow2_col1\" class=\"data row2 col1\" >549</td> \n",
       "        <td id=\"T_317c9a1e_008b_11ea_bef6_1002b5e8806drow2_col2\" class=\"data row2 col2\" >891</td> \n",
       "    </tr></tbody> \n",
       "</table> "
      ],
      "text/plain": [
       "<pandas.io.formats.style.Styler at 0xb8aef28>"
      ]
     },
     "execution_count": 13,
     "metadata": {},
     "output_type": "execute_result"
    }
   ],
   "source": [
    "pd.crosstab([titanic['Sex']],titanic['Survived_group'], margins=True).style.background_gradient(cmap='summer_r')"
   ]
  },
  {
   "cell_type": "markdown",
   "metadata": {},
   "source": [
    "Most of female passanger Survive (233)"
   ]
  },
  {
   "cell_type": "markdown",
   "metadata": {},
   "source": [
    "## Features: Age"
   ]
  },
  {
   "cell_type": "markdown",
   "metadata": {},
   "source": [
    "### Age Classification\n",
    "\n",
    "<br>Infant, from 0 to 5\n",
    "<br>Child, from 5 to 12\n",
    "<br>Teenager, from 12 to 18\n",
    "<br>Young Adult, from 18 to 35\n",
    "<br>Adult, from 35 to 60\n",
    "<br>Senior, from 60 to 100"
   ]
  },
  {
   "cell_type": "code",
   "execution_count": 12,
   "metadata": {},
   "outputs": [
    {
     "data": {
      "text/html": [
       "<div>\n",
       "<style scoped>\n",
       "    .dataframe tbody tr th:only-of-type {\n",
       "        vertical-align: middle;\n",
       "    }\n",
       "\n",
       "    .dataframe tbody tr th {\n",
       "        vertical-align: top;\n",
       "    }\n",
       "\n",
       "    .dataframe thead th {\n",
       "        text-align: right;\n",
       "    }\n",
       "</style>\n",
       "<table border=\"1\" class=\"dataframe\">\n",
       "  <thead>\n",
       "    <tr style=\"text-align: right;\">\n",
       "      <th></th>\n",
       "      <th>PassengerId</th>\n",
       "      <th>Survived</th>\n",
       "      <th>Pclass</th>\n",
       "      <th>Name</th>\n",
       "      <th>Sex</th>\n",
       "      <th>Age</th>\n",
       "      <th>SibSp</th>\n",
       "      <th>Parch</th>\n",
       "      <th>Ticket</th>\n",
       "      <th>Fare</th>\n",
       "      <th>Cabin</th>\n",
       "      <th>Embarked</th>\n",
       "      <th>Survived_group</th>\n",
       "      <th>Age_group</th>\n",
       "    </tr>\n",
       "  </thead>\n",
       "  <tbody>\n",
       "    <tr>\n",
       "      <th>0</th>\n",
       "      <td>1</td>\n",
       "      <td>0</td>\n",
       "      <td>3</td>\n",
       "      <td>Braund, Mr. Owen Harris</td>\n",
       "      <td>male</td>\n",
       "      <td>22.0</td>\n",
       "      <td>1</td>\n",
       "      <td>0</td>\n",
       "      <td>A/5 21171</td>\n",
       "      <td>7.2500</td>\n",
       "      <td>NaN</td>\n",
       "      <td>S</td>\n",
       "      <td>Dead</td>\n",
       "      <td>4. Young Adult</td>\n",
       "    </tr>\n",
       "    <tr>\n",
       "      <th>1</th>\n",
       "      <td>2</td>\n",
       "      <td>1</td>\n",
       "      <td>1</td>\n",
       "      <td>Cumings, Mrs. John Bradley (Florence Briggs Th...</td>\n",
       "      <td>female</td>\n",
       "      <td>38.0</td>\n",
       "      <td>1</td>\n",
       "      <td>0</td>\n",
       "      <td>PC 17599</td>\n",
       "      <td>71.2833</td>\n",
       "      <td>C85</td>\n",
       "      <td>C</td>\n",
       "      <td>Alive</td>\n",
       "      <td>5. Adult</td>\n",
       "    </tr>\n",
       "    <tr>\n",
       "      <th>2</th>\n",
       "      <td>3</td>\n",
       "      <td>1</td>\n",
       "      <td>3</td>\n",
       "      <td>Heikkinen, Miss. Laina</td>\n",
       "      <td>female</td>\n",
       "      <td>26.0</td>\n",
       "      <td>0</td>\n",
       "      <td>0</td>\n",
       "      <td>STON/O2. 3101282</td>\n",
       "      <td>7.9250</td>\n",
       "      <td>NaN</td>\n",
       "      <td>S</td>\n",
       "      <td>Alive</td>\n",
       "      <td>4. Young Adult</td>\n",
       "    </tr>\n",
       "  </tbody>\n",
       "</table>\n",
       "</div>"
      ],
      "text/plain": [
       "   PassengerId  Survived  Pclass  \\\n",
       "0            1         0       3   \n",
       "1            2         1       1   \n",
       "2            3         1       3   \n",
       "\n",
       "                                                Name     Sex   Age  SibSp  \\\n",
       "0                            Braund, Mr. Owen Harris    male  22.0      1   \n",
       "1  Cumings, Mrs. John Bradley (Florence Briggs Th...  female  38.0      1   \n",
       "2                             Heikkinen, Miss. Laina  female  26.0      0   \n",
       "\n",
       "   Parch            Ticket     Fare Cabin Embarked Survived_group  \\\n",
       "0      0         A/5 21171   7.2500   NaN        S           Dead   \n",
       "1      0          PC 17599  71.2833   C85        C          Alive   \n",
       "2      0  STON/O2. 3101282   7.9250   NaN        S          Alive   \n",
       "\n",
       "        Age_group  \n",
       "0  4. Young Adult  \n",
       "1        5. Adult  \n",
       "2  4. Young Adult  "
      ]
     },
     "execution_count": 12,
     "metadata": {},
     "output_type": "execute_result"
    }
   ],
   "source": [
    "def age_class(data):\n",
    "    data['Age_group'] = \"NaN\"\n",
    "    data.loc[data['Age'] <= 0, 'Age_group'] = 'Unknown' # Child\n",
    "    data.loc[(data['Age'] > 0) & (data['Age'] <= 5), 'Age_group'] = '1. Infant' \n",
    "    data.loc[(data['Age'] > 5) & (data['Age'] <= 12), 'Age_group'] = '2. Child' \n",
    "    data.loc[(data['Age'] > 12) & (data['Age'] <= 18), 'Age_group'] = '3. Teenager' \n",
    "    data.loc[(data['Age'] > 18) & (data['Age'] <= 35), 'Age_group'] = '4. Young Adult'\n",
    "    data.loc[(data['Age'] > 35) & (data['Age'] <= 60), 'Age_group'] = '5. Adult' \n",
    "    data.loc[data['Age'] > 60, 'Age_group'] = '6. Senior' \n",
    "    return data\n",
    "\n",
    "titanic = age_class(titanic)\n",
    "titanic['Age_group']=titanic['Age_group'].replace('NaN','7. Unknown')\n",
    "titanic.head(3)\n"
   ]
  },
  {
   "cell_type": "code",
   "execution_count": 17,
   "metadata": {},
   "outputs": [
    {
     "data": {
      "text/html": [
       "<style  type=\"text/css\" >\n",
       "    #T_5f3cff1c_008b_11ea_b5de_1002b5e8806drow0_col0 {\n",
       "            background-color:  #ffff66;\n",
       "        }    #T_5f3cff1c_008b_11ea_b5de_1002b5e8806drow0_col1 {\n",
       "            background-color:  #c5e266;\n",
       "        }    #T_5f3cff1c_008b_11ea_b5de_1002b5e8806drow0_col2 {\n",
       "            background-color:  #e9f466;\n",
       "        }    #T_5f3cff1c_008b_11ea_b5de_1002b5e8806drow0_col3 {\n",
       "            background-color:  #ffff66;\n",
       "        }    #T_5f3cff1c_008b_11ea_b5de_1002b5e8806drow0_col4 {\n",
       "            background-color:  #ffff66;\n",
       "        }    #T_5f3cff1c_008b_11ea_b5de_1002b5e8806drow0_col5 {\n",
       "            background-color:  #ffff66;\n",
       "        }    #T_5f3cff1c_008b_11ea_b5de_1002b5e8806drow0_col6 {\n",
       "            background-color:  #fefe66;\n",
       "        }    #T_5f3cff1c_008b_11ea_b5de_1002b5e8806drow0_col7 {\n",
       "            background-color:  #ffff66;\n",
       "        }    #T_5f3cff1c_008b_11ea_b5de_1002b5e8806drow1_col0 {\n",
       "            background-color:  #b7db66;\n",
       "        }    #T_5f3cff1c_008b_11ea_b5de_1002b5e8806drow1_col1 {\n",
       "            background-color:  #ffff66;\n",
       "        }    #T_5f3cff1c_008b_11ea_b5de_1002b5e8806drow1_col2 {\n",
       "            background-color:  #a4d266;\n",
       "        }    #T_5f3cff1c_008b_11ea_b5de_1002b5e8806drow1_col3 {\n",
       "            background-color:  #cbe566;\n",
       "        }    #T_5f3cff1c_008b_11ea_b5de_1002b5e8806drow1_col4 {\n",
       "            background-color:  #c9e466;\n",
       "        }    #T_5f3cff1c_008b_11ea_b5de_1002b5e8806drow1_col5 {\n",
       "            background-color:  #ddee66;\n",
       "        }    #T_5f3cff1c_008b_11ea_b5de_1002b5e8806drow1_col6 {\n",
       "            background-color:  #e0f066;\n",
       "        }    #T_5f3cff1c_008b_11ea_b5de_1002b5e8806drow1_col7 {\n",
       "            background-color:  #cfe766;\n",
       "        }    #T_5f3cff1c_008b_11ea_b5de_1002b5e8806drow2_col0 {\n",
       "            background-color:  #ecf666;\n",
       "        }    #T_5f3cff1c_008b_11ea_b5de_1002b5e8806drow2_col1 {\n",
       "            background-color:  #c5e266;\n",
       "        }    #T_5f3cff1c_008b_11ea_b5de_1002b5e8806drow2_col2 {\n",
       "            background-color:  #95ca66;\n",
       "        }    #T_5f3cff1c_008b_11ea_b5de_1002b5e8806drow2_col3 {\n",
       "            background-color:  #7dbe66;\n",
       "        }    #T_5f3cff1c_008b_11ea_b5de_1002b5e8806drow2_col4 {\n",
       "            background-color:  #86c266;\n",
       "        }    #T_5f3cff1c_008b_11ea_b5de_1002b5e8806drow2_col5 {\n",
       "            background-color:  #3a9c66;\n",
       "        }    #T_5f3cff1c_008b_11ea_b5de_1002b5e8806drow2_col6 {\n",
       "            background-color:  #6db666;\n",
       "        }    #T_5f3cff1c_008b_11ea_b5de_1002b5e8806drow2_col7 {\n",
       "            background-color:  #85c266;\n",
       "        }    #T_5f3cff1c_008b_11ea_b5de_1002b5e8806drow3_col0 {\n",
       "            background-color:  #bede66;\n",
       "        }    #T_5f3cff1c_008b_11ea_b5de_1002b5e8806drow3_col1 {\n",
       "            background-color:  #ddee66;\n",
       "        }    #T_5f3cff1c_008b_11ea_b5de_1002b5e8806drow3_col2 {\n",
       "            background-color:  #ffff66;\n",
       "        }    #T_5f3cff1c_008b_11ea_b5de_1002b5e8806drow3_col3 {\n",
       "            background-color:  #f2f866;\n",
       "        }    #T_5f3cff1c_008b_11ea_b5de_1002b5e8806drow3_col4 {\n",
       "            background-color:  #f4fa66;\n",
       "        }    #T_5f3cff1c_008b_11ea_b5de_1002b5e8806drow3_col5 {\n",
       "            background-color:  #e8f466;\n",
       "        }    #T_5f3cff1c_008b_11ea_b5de_1002b5e8806drow3_col6 {\n",
       "            background-color:  #ffff66;\n",
       "        }    #T_5f3cff1c_008b_11ea_b5de_1002b5e8806drow3_col7 {\n",
       "            background-color:  #f7fb66;\n",
       "        }    #T_5f3cff1c_008b_11ea_b5de_1002b5e8806drow4_col0 {\n",
       "            background-color:  #008066;\n",
       "        }    #T_5f3cff1c_008b_11ea_b5de_1002b5e8806drow4_col1 {\n",
       "            background-color:  #008066;\n",
       "        }    #T_5f3cff1c_008b_11ea_b5de_1002b5e8806drow4_col2 {\n",
       "            background-color:  #008066;\n",
       "        }    #T_5f3cff1c_008b_11ea_b5de_1002b5e8806drow4_col3 {\n",
       "            background-color:  #008066;\n",
       "        }    #T_5f3cff1c_008b_11ea_b5de_1002b5e8806drow4_col4 {\n",
       "            background-color:  #008066;\n",
       "        }    #T_5f3cff1c_008b_11ea_b5de_1002b5e8806drow4_col5 {\n",
       "            background-color:  #008066;\n",
       "        }    #T_5f3cff1c_008b_11ea_b5de_1002b5e8806drow4_col6 {\n",
       "            background-color:  #008066;\n",
       "        }    #T_5f3cff1c_008b_11ea_b5de_1002b5e8806drow4_col7 {\n",
       "            background-color:  #008066;\n",
       "        }</style>  \n",
       "<table id=\"T_5f3cff1c_008b_11ea_b5de_1002b5e8806d\" > \n",
       "<thead>    <tr> \n",
       "        <th class=\"blank\" ></th> \n",
       "        <th class=\"index_name level0\" >Age_group</th> \n",
       "        <th class=\"col_heading level0 col0\" >1. Infant</th> \n",
       "        <th class=\"col_heading level0 col1\" >2. Child</th> \n",
       "        <th class=\"col_heading level0 col2\" >3. Teenager</th> \n",
       "        <th class=\"col_heading level0 col3\" >4. Young Adult</th> \n",
       "        <th class=\"col_heading level0 col4\" >5. Adult</th> \n",
       "        <th class=\"col_heading level0 col5\" >6. Senior</th> \n",
       "        <th class=\"col_heading level0 col6\" >7. Unknown</th> \n",
       "        <th class=\"col_heading level0 col7\" >All</th> \n",
       "    </tr>    <tr> \n",
       "        <th class=\"index_name level0\" >Sex</th> \n",
       "        <th class=\"index_name level1\" >Survived</th> \n",
       "        <th class=\"blank\" ></th> \n",
       "        <th class=\"blank\" ></th> \n",
       "        <th class=\"blank\" ></th> \n",
       "        <th class=\"blank\" ></th> \n",
       "        <th class=\"blank\" ></th> \n",
       "        <th class=\"blank\" ></th> \n",
       "        <th class=\"blank\" ></th> \n",
       "        <th class=\"blank\" ></th> \n",
       "    </tr></thead> \n",
       "<tbody>    <tr> \n",
       "        <th id=\"T_5f3cff1c_008b_11ea_b5de_1002b5e8806dlevel0_row0\" class=\"row_heading level0 row0\" rowspan=2>female</th> \n",
       "        <th id=\"T_5f3cff1c_008b_11ea_b5de_1002b5e8806dlevel1_row0\" class=\"row_heading level1 row0\" >0</th> \n",
       "        <td id=\"T_5f3cff1c_008b_11ea_b5de_1002b5e8806drow0_col0\" class=\"data row0 col0\" >5</td> \n",
       "        <td id=\"T_5f3cff1c_008b_11ea_b5de_1002b5e8806drow0_col1\" class=\"data row0 col1\" >8</td> \n",
       "        <td id=\"T_5f3cff1c_008b_11ea_b5de_1002b5e8806drow0_col2\" class=\"data row0 col2\" >9</td> \n",
       "        <td id=\"T_5f3cff1c_008b_11ea_b5de_1002b5e8806drow0_col3\" class=\"data row0 col3\" >26</td> \n",
       "        <td id=\"T_5f3cff1c_008b_11ea_b5de_1002b5e8806drow0_col4\" class=\"data row0 col4\" >16</td> \n",
       "        <td id=\"T_5f3cff1c_008b_11ea_b5de_1002b5e8806drow0_col5\" class=\"data row0 col5\" >0</td> \n",
       "        <td id=\"T_5f3cff1c_008b_11ea_b5de_1002b5e8806drow0_col6\" class=\"data row0 col6\" >17</td> \n",
       "        <td id=\"T_5f3cff1c_008b_11ea_b5de_1002b5e8806drow0_col7\" class=\"data row0 col7\" >81</td> \n",
       "    </tr>    <tr> \n",
       "        <th id=\"T_5f3cff1c_008b_11ea_b5de_1002b5e8806dlevel1_row1\" class=\"row_heading level1 row1\" >1</th> \n",
       "        <td id=\"T_5f3cff1c_008b_11ea_b5de_1002b5e8806drow1_col0\" class=\"data row1 col0\" >16</td> \n",
       "        <td id=\"T_5f3cff1c_008b_11ea_b5de_1002b5e8806drow1_col1\" class=\"data row1 col1\" >3</td> \n",
       "        <td id=\"T_5f3cff1c_008b_11ea_b5de_1002b5e8806drow1_col2\" class=\"data row1 col2\" >27</td> \n",
       "        <td id=\"T_5f3cff1c_008b_11ea_b5de_1002b5e8806drow1_col3\" class=\"data row1 col3\" >94</td> \n",
       "        <td id=\"T_5f3cff1c_008b_11ea_b5de_1002b5e8806drow1_col4\" class=\"data row1 col4\" >54</td> \n",
       "        <td id=\"T_5f3cff1c_008b_11ea_b5de_1002b5e8806drow1_col5\" class=\"data row1 col5\" >3</td> \n",
       "        <td id=\"T_5f3cff1c_008b_11ea_b5de_1002b5e8806drow1_col6\" class=\"data row1 col6\" >36</td> \n",
       "        <td id=\"T_5f3cff1c_008b_11ea_b5de_1002b5e8806drow1_col7\" class=\"data row1 col7\" >233</td> \n",
       "    </tr>    <tr> \n",
       "        <th id=\"T_5f3cff1c_008b_11ea_b5de_1002b5e8806dlevel0_row2\" class=\"row_heading level0 row2\" rowspan=2>male</th> \n",
       "        <th id=\"T_5f3cff1c_008b_11ea_b5de_1002b5e8806dlevel1_row2\" class=\"row_heading level1 row2\" >0</th> \n",
       "        <td id=\"T_5f3cff1c_008b_11ea_b5de_1002b5e8806drow2_col0\" class=\"data row2 col0\" >8</td> \n",
       "        <td id=\"T_5f3cff1c_008b_11ea_b5de_1002b5e8806drow2_col1\" class=\"data row2 col1\" >8</td> \n",
       "        <td id=\"T_5f3cff1c_008b_11ea_b5de_1002b5e8806drow2_col2\" class=\"data row2 col2\" >31</td> \n",
       "        <td id=\"T_5f3cff1c_008b_11ea_b5de_1002b5e8806drow2_col3\" class=\"data row2 col3\" >195</td> \n",
       "        <td id=\"T_5f3cff1c_008b_11ea_b5de_1002b5e8806drow2_col4\" class=\"data row2 col4\" >101</td> \n",
       "        <td id=\"T_5f3cff1c_008b_11ea_b5de_1002b5e8806drow2_col5\" class=\"data row2 col5\" >17</td> \n",
       "        <td id=\"T_5f3cff1c_008b_11ea_b5de_1002b5e8806drow2_col6\" class=\"data row2 col6\" >108</td> \n",
       "        <td id=\"T_5f3cff1c_008b_11ea_b5de_1002b5e8806drow2_col7\" class=\"data row2 col7\" >468</td> \n",
       "    </tr>    <tr> \n",
       "        <th id=\"T_5f3cff1c_008b_11ea_b5de_1002b5e8806dlevel1_row3\" class=\"row_heading level1 row3\" >1</th> \n",
       "        <td id=\"T_5f3cff1c_008b_11ea_b5de_1002b5e8806drow3_col0\" class=\"data row3 col0\" >15</td> \n",
       "        <td id=\"T_5f3cff1c_008b_11ea_b5de_1002b5e8806drow3_col1\" class=\"data row3 col1\" >6</td> \n",
       "        <td id=\"T_5f3cff1c_008b_11ea_b5de_1002b5e8806drow3_col2\" class=\"data row3 col2\" >3</td> \n",
       "        <td id=\"T_5f3cff1c_008b_11ea_b5de_1002b5e8806drow3_col3\" class=\"data row3 col3\" >43</td> \n",
       "        <td id=\"T_5f3cff1c_008b_11ea_b5de_1002b5e8806drow3_col4\" class=\"data row3 col4\" >24</td> \n",
       "        <td id=\"T_5f3cff1c_008b_11ea_b5de_1002b5e8806drow3_col5\" class=\"data row3 col5\" >2</td> \n",
       "        <td id=\"T_5f3cff1c_008b_11ea_b5de_1002b5e8806drow3_col6\" class=\"data row3 col6\" >16</td> \n",
       "        <td id=\"T_5f3cff1c_008b_11ea_b5de_1002b5e8806drow3_col7\" class=\"data row3 col7\" >109</td> \n",
       "    </tr>    <tr> \n",
       "        <th id=\"T_5f3cff1c_008b_11ea_b5de_1002b5e8806dlevel0_row4\" class=\"row_heading level0 row4\" >All</th> \n",
       "        <th id=\"T_5f3cff1c_008b_11ea_b5de_1002b5e8806dlevel1_row4\" class=\"row_heading level1 row4\" ></th> \n",
       "        <td id=\"T_5f3cff1c_008b_11ea_b5de_1002b5e8806drow4_col0\" class=\"data row4 col0\" >44</td> \n",
       "        <td id=\"T_5f3cff1c_008b_11ea_b5de_1002b5e8806drow4_col1\" class=\"data row4 col1\" >25</td> \n",
       "        <td id=\"T_5f3cff1c_008b_11ea_b5de_1002b5e8806drow4_col2\" class=\"data row4 col2\" >70</td> \n",
       "        <td id=\"T_5f3cff1c_008b_11ea_b5de_1002b5e8806drow4_col3\" class=\"data row4 col3\" >358</td> \n",
       "        <td id=\"T_5f3cff1c_008b_11ea_b5de_1002b5e8806drow4_col4\" class=\"data row4 col4\" >195</td> \n",
       "        <td id=\"T_5f3cff1c_008b_11ea_b5de_1002b5e8806drow4_col5\" class=\"data row4 col5\" >22</td> \n",
       "        <td id=\"T_5f3cff1c_008b_11ea_b5de_1002b5e8806drow4_col6\" class=\"data row4 col6\" >177</td> \n",
       "        <td id=\"T_5f3cff1c_008b_11ea_b5de_1002b5e8806drow4_col7\" class=\"data row4 col7\" >891</td> \n",
       "    </tr></tbody> \n",
       "</table> "
      ],
      "text/plain": [
       "<pandas.io.formats.style.Styler at 0xbdbfb00>"
      ]
     },
     "execution_count": 17,
     "metadata": {},
     "output_type": "execute_result"
    }
   ],
   "source": [
    "pd.crosstab([titanic['Sex'],titanic['Survived'] ],titanic['Age_group'], margins=True).style.background_gradient(cmap='summer_r')\n"
   ]
  },
  {
   "cell_type": "markdown",
   "metadata": {},
   "source": [
    "Most victims are: men with Young Adult category (195)"
   ]
  },
  {
   "cell_type": "code",
   "execution_count": 15,
   "metadata": {},
   "outputs": [
    {
     "data": {
      "image/png": "[encoded data removed]",
      "text/plain": [
       "<Figure size 792x360 with 1 Axes>"
      ]
     },
     "metadata": {
      "needs_background": "light"
     },
     "output_type": "display_data"
    }
   ],
   "source": [
    "fig, ax = plt.subplots(1, 1, figsize=(11,5))\n",
    "sns.countplot(\"Age_group\", hue = \"Survived_group\", data = titanic)\n",
    "plt.title(\"Age_group VS Survived\")\n",
    "plt.show()\n",
    "fig.savefig('fig_tgs/Age_group VS Survived.png')\n"
   ]
  },
  {
   "cell_type": "markdown",
   "metadata": {},
   "source": [
    "- In the infant category, the number of passengers who survived> passengers who died\n",
    "- Most of the dead and survivors are young adult"
   ]
  },
  {
   "cell_type": "code",
   "execution_count": 18,
   "metadata": {},
   "outputs": [
    {
     "name": "stderr",
     "output_type": "stream",
     "text": [
      "C:\\Anaconda3\\lib\\site-packages\\scipy\\stats\\stats.py:1713: FutureWarning: Using a non-tuple sequence for multidimensional indexing is deprecated; use `arr[tuple(seq)]` instead of `arr[seq]`. In the future this will be interpreted as an array index, `arr[np.array(seq)]`, which will result either in an error or a different result.\n",
      "  return np.add.reduce(sorted[indexer] * weights, axis=axis) / sumval\n"
     ]
    },
    {
     "data": {
      "image/png": "[encoded data removed]",
      "text/plain": [
       "<Figure size 792x360 with 1 Axes>"
      ]
     },
     "metadata": {
      "needs_background": "light"
     },
     "output_type": "display_data"
    }
   ],
   "source": [
    "#survival rate\n",
    "fig, ax = plt.subplots(1, 1, figsize=(11,5))\n",
    "sns.barplot(x='Age_group', y='Survived', data=titanic)\n",
    "plt.title(\"Survival Rate Based on Age Category\")\n",
    "plt.show()\n",
    "fig.savefig('fig_tgs/Survival Rate Based on Age Cat.png')"
   ]
  },
  {
   "cell_type": "markdown",
   "metadata": {},
   "source": [
    "- The highest survival rate is in the Infant category (0-5 yrs)\n",
    "- The lowest survival rate is in the Senior category (> 60 yrs)"
   ]
  },
  {
   "cell_type": "markdown",
   "metadata": {},
   "source": [
    "## Features: Pclass"
   ]
  },
  {
   "cell_type": "code",
   "execution_count": 19,
   "metadata": {},
   "outputs": [
    {
     "data": {
      "text/html": [
       "<style  type=\"text/css\" >\n",
       "    #T_761380a4_008b_11ea_9c08_1002b5e8806drow0_col0 {\n",
       "            background-color:  #96cb66;\n",
       "        }    #T_761380a4_008b_11ea_9c08_1002b5e8806drow0_col1 {\n",
       "            background-color:  #a3d166;\n",
       "        }    #T_761380a4_008b_11ea_9c08_1002b5e8806drow0_col2 {\n",
       "            background-color:  #f1f866;\n",
       "        }    #T_761380a4_008b_11ea_9c08_1002b5e8806drow0_col3 {\n",
       "            background-color:  #cfe766;\n",
       "        }    #T_761380a4_008b_11ea_9c08_1002b5e8806drow1_col0 {\n",
       "            background-color:  #ffff66;\n",
       "        }    #T_761380a4_008b_11ea_9c08_1002b5e8806drow1_col1 {\n",
       "            background-color:  #ffff66;\n",
       "        }    #T_761380a4_008b_11ea_9c08_1002b5e8806drow1_col2 {\n",
       "            background-color:  #f1f866;\n",
       "        }    #T_761380a4_008b_11ea_9c08_1002b5e8806drow1_col3 {\n",
       "            background-color:  #ffff66;\n",
       "        }    #T_761380a4_008b_11ea_9c08_1002b5e8806drow2_col0 {\n",
       "            background-color:  #cde666;\n",
       "        }    #T_761380a4_008b_11ea_9c08_1002b5e8806drow2_col1 {\n",
       "            background-color:  #f0f866;\n",
       "        }    #T_761380a4_008b_11ea_9c08_1002b5e8806drow2_col2 {\n",
       "            background-color:  #ffff66;\n",
       "        }    #T_761380a4_008b_11ea_9c08_1002b5e8806drow2_col3 {\n",
       "            background-color:  #f7fb66;\n",
       "        }    #T_761380a4_008b_11ea_9c08_1002b5e8806drow3_col0 {\n",
       "            background-color:  #a7d366;\n",
       "        }    #T_761380a4_008b_11ea_9c08_1002b5e8806drow3_col1 {\n",
       "            background-color:  #85c266;\n",
       "        }    #T_761380a4_008b_11ea_9c08_1002b5e8806drow3_col2 {\n",
       "            background-color:  #6eb666;\n",
       "        }    #T_761380a4_008b_11ea_9c08_1002b5e8806drow3_col3 {\n",
       "            background-color:  #85c266;\n",
       "        }    #T_761380a4_008b_11ea_9c08_1002b5e8806drow4_col0 {\n",
       "            background-color:  #008066;\n",
       "        }    #T_761380a4_008b_11ea_9c08_1002b5e8806drow4_col1 {\n",
       "            background-color:  #008066;\n",
       "        }    #T_761380a4_008b_11ea_9c08_1002b5e8806drow4_col2 {\n",
       "            background-color:  #008066;\n",
       "        }    #T_761380a4_008b_11ea_9c08_1002b5e8806drow4_col3 {\n",
       "            background-color:  #008066;\n",
       "        }</style>  \n",
       "<table id=\"T_761380a4_008b_11ea_9c08_1002b5e8806d\" > \n",
       "<thead>    <tr> \n",
       "        <th class=\"blank\" ></th> \n",
       "        <th class=\"index_name level0\" >Pclass</th> \n",
       "        <th class=\"col_heading level0 col0\" >1</th> \n",
       "        <th class=\"col_heading level0 col1\" >2</th> \n",
       "        <th class=\"col_heading level0 col2\" >3</th> \n",
       "        <th class=\"col_heading level0 col3\" >All</th> \n",
       "    </tr>    <tr> \n",
       "        <th class=\"index_name level0\" >Sex</th> \n",
       "        <th class=\"index_name level1\" >Survived_group</th> \n",
       "        <th class=\"blank\" ></th> \n",
       "        <th class=\"blank\" ></th> \n",
       "        <th class=\"blank\" ></th> \n",
       "        <th class=\"blank\" ></th> \n",
       "    </tr></thead> \n",
       "<tbody>    <tr> \n",
       "        <th id=\"T_761380a4_008b_11ea_9c08_1002b5e8806dlevel0_row0\" class=\"row_heading level0 row0\" rowspan=2>female</th> \n",
       "        <th id=\"T_761380a4_008b_11ea_9c08_1002b5e8806dlevel1_row0\" class=\"row_heading level1 row0\" >Alive</th> \n",
       "        <td id=\"T_761380a4_008b_11ea_9c08_1002b5e8806drow0_col0\" class=\"data row0 col0\" >91</td> \n",
       "        <td id=\"T_761380a4_008b_11ea_9c08_1002b5e8806drow0_col1\" class=\"data row0 col1\" >70</td> \n",
       "        <td id=\"T_761380a4_008b_11ea_9c08_1002b5e8806drow0_col2\" class=\"data row0 col2\" >72</td> \n",
       "        <td id=\"T_761380a4_008b_11ea_9c08_1002b5e8806drow0_col3\" class=\"data row0 col3\" >233</td> \n",
       "    </tr>    <tr> \n",
       "        <th id=\"T_761380a4_008b_11ea_9c08_1002b5e8806dlevel1_row1\" class=\"row_heading level1 row1\" >Dead</th> \n",
       "        <td id=\"T_761380a4_008b_11ea_9c08_1002b5e8806drow1_col0\" class=\"data row1 col0\" >3</td> \n",
       "        <td id=\"T_761380a4_008b_11ea_9c08_1002b5e8806drow1_col1\" class=\"data row1 col1\" >6</td> \n",
       "        <td id=\"T_761380a4_008b_11ea_9c08_1002b5e8806drow1_col2\" class=\"data row1 col2\" >72</td> \n",
       "        <td id=\"T_761380a4_008b_11ea_9c08_1002b5e8806drow1_col3\" class=\"data row1 col3\" >81</td> \n",
       "    </tr>    <tr> \n",
       "        <th id=\"T_761380a4_008b_11ea_9c08_1002b5e8806dlevel0_row2\" class=\"row_heading level0 row2\" rowspan=2>male</th> \n",
       "        <th id=\"T_761380a4_008b_11ea_9c08_1002b5e8806dlevel1_row2\" class=\"row_heading level1 row2\" >Alive</th> \n",
       "        <td id=\"T_761380a4_008b_11ea_9c08_1002b5e8806drow2_col0\" class=\"data row2 col0\" >45</td> \n",
       "        <td id=\"T_761380a4_008b_11ea_9c08_1002b5e8806drow2_col1\" class=\"data row2 col1\" >17</td> \n",
       "        <td id=\"T_761380a4_008b_11ea_9c08_1002b5e8806drow2_col2\" class=\"data row2 col2\" >47</td> \n",
       "        <td id=\"T_761380a4_008b_11ea_9c08_1002b5e8806drow2_col3\" class=\"data row2 col3\" >109</td> \n",
       "    </tr>    <tr> \n",
       "        <th id=\"T_761380a4_008b_11ea_9c08_1002b5e8806dlevel1_row3\" class=\"row_heading level1 row3\" >Dead</th> \n",
       "        <td id=\"T_761380a4_008b_11ea_9c08_1002b5e8806drow3_col0\" class=\"data row3 col0\" >77</td> \n",
       "        <td id=\"T_761380a4_008b_11ea_9c08_1002b5e8806drow3_col1\" class=\"data row3 col1\" >91</td> \n",
       "        <td id=\"T_761380a4_008b_11ea_9c08_1002b5e8806drow3_col2\" class=\"data row3 col2\" >300</td> \n",
       "        <td id=\"T_761380a4_008b_11ea_9c08_1002b5e8806drow3_col3\" class=\"data row3 col3\" >468</td> \n",
       "    </tr>    <tr> \n",
       "        <th id=\"T_761380a4_008b_11ea_9c08_1002b5e8806dlevel0_row4\" class=\"row_heading level0 row4\" >All</th> \n",
       "        <th id=\"T_761380a4_008b_11ea_9c08_1002b5e8806dlevel1_row4\" class=\"row_heading level1 row4\" ></th> \n",
       "        <td id=\"T_761380a4_008b_11ea_9c08_1002b5e8806drow4_col0\" class=\"data row4 col0\" >216</td> \n",
       "        <td id=\"T_761380a4_008b_11ea_9c08_1002b5e8806drow4_col1\" class=\"data row4 col1\" >184</td> \n",
       "        <td id=\"T_761380a4_008b_11ea_9c08_1002b5e8806drow4_col2\" class=\"data row4 col2\" >491</td> \n",
       "        <td id=\"T_761380a4_008b_11ea_9c08_1002b5e8806drow4_col3\" class=\"data row4 col3\" >891</td> \n",
       "    </tr></tbody> \n",
       "</table> "
      ],
      "text/plain": [
       "<pandas.io.formats.style.Styler at 0xbdeb400>"
      ]
     },
     "execution_count": 19,
     "metadata": {},
     "output_type": "execute_result"
    }
   ],
   "source": [
    "pd.crosstab([titanic['Sex'],titanic['Survived_group']], titanic['Pclass'],margins=True).style.background_gradient(cmap='summer_r')"
   ]
  },
  {
   "cell_type": "code",
   "execution_count": 21,
   "metadata": {},
   "outputs": [
    {
     "name": "stderr",
     "output_type": "stream",
     "text": [
      "C:\\Anaconda3\\lib\\site-packages\\scipy\\stats\\stats.py:1713: FutureWarning: Using a non-tuple sequence for multidimensional indexing is deprecated; use `arr[tuple(seq)]` instead of `arr[seq]`. In the future this will be interpreted as an array index, `arr[np.array(seq)]`, which will result either in an error or a different result.\n",
      "  return np.add.reduce(sorted[indexer] * weights, axis=axis) / sumval\n"
     ]
    },
    {
     "data": {
      "image/png": "[encoded data removed]",
      "text/plain": [
       "<Figure size 360x360 with 1 Axes>"
      ]
     },
     "metadata": {
      "needs_background": "light"
     },
     "output_type": "display_data"
    }
   ],
   "source": [
    "fig, ax = plt.subplots(1, 1, figsize=(5,5))\n",
    "sns.barplot(x='Pclass', y='Survived', data=titanic)\n",
    "plt.title(\"Survival Rate Based on Class Category\")\n",
    "plt.show()\n",
    "fig.savefig('fig_tgs/Survival Rate Based on Class Cat.png')"
   ]
  },
  {
   "cell_type": "code",
   "execution_count": 55,
   "metadata": {},
   "outputs": [],
   "source": [
    "survivability = titanic.groupby(['Sex','Pclass','Age_group']).agg({'Survived':lambda x : (x==1).sum() / x.count()}).reset_index()"
   ]
  },
  {
   "cell_type": "markdown",
   "metadata": {},
   "source": [
    "• First class female passengers survived the most (91)<br>\n",
    "• Third Class male passengers died most (300)<br>\n",
    "• The greatest Survival Rate is First Class passengers"
   ]
  },
  {
   "cell_type": "markdown",
   "metadata": {},
   "source": [
    "## Features: Embarked"
   ]
  },
  {
   "cell_type": "code",
   "execution_count": 20,
   "metadata": {},
   "outputs": [
    {
     "data": {
      "text/html": [
       "<style  type=\"text/css\" >\n",
       "    #T_bb7d332c_008b_11ea_848a_1002b5e8806drow0_col0 {\n",
       "            background-color:  #6cb666;\n",
       "        }    #T_bb7d332c_008b_11ea_848a_1002b5e8806drow0_col1 {\n",
       "            background-color:  #d6eb66;\n",
       "        }    #T_bb7d332c_008b_11ea_848a_1002b5e8806drow0_col2 {\n",
       "            background-color:  #f8fc66;\n",
       "        }    #T_bb7d332c_008b_11ea_848a_1002b5e8806drow0_col3 {\n",
       "            background-color:  #ffff66;\n",
       "        }    #T_bb7d332c_008b_11ea_848a_1002b5e8806drow0_col4 {\n",
       "            background-color:  #c7e366;\n",
       "        }    #T_bb7d332c_008b_11ea_848a_1002b5e8806drow0_col5 {\n",
       "            background-color:  #f8fc66;\n",
       "        }    #T_bb7d332c_008b_11ea_848a_1002b5e8806drow0_col6 {\n",
       "            background-color:  #eef666;\n",
       "        }    #T_bb7d332c_008b_11ea_848a_1002b5e8806drow1_col0 {\n",
       "            background-color:  #fcfe66;\n",
       "        }    #T_bb7d332c_008b_11ea_848a_1002b5e8806drow1_col1 {\n",
       "            background-color:  #c0e066;\n",
       "        }    #T_bb7d332c_008b_11ea_848a_1002b5e8806drow1_col2 {\n",
       "            background-color:  #ffff66;\n",
       "        }    #T_bb7d332c_008b_11ea_848a_1002b5e8806drow1_col3 {\n",
       "            background-color:  #f9fc66;\n",
       "        }    #T_bb7d332c_008b_11ea_848a_1002b5e8806drow1_col4 {\n",
       "            background-color:  #ffff66;\n",
       "        }    #T_bb7d332c_008b_11ea_848a_1002b5e8806drow1_col5 {\n",
       "            background-color:  #eaf466;\n",
       "        }    #T_bb7d332c_008b_11ea_848a_1002b5e8806drow1_col6 {\n",
       "            background-color:  #ffff66;\n",
       "        }    #T_bb7d332c_008b_11ea_848a_1002b5e8806drow2_col0 {\n",
       "            background-color:  #e7f366;\n",
       "        }    #T_bb7d332c_008b_11ea_848a_1002b5e8806drow2_col1 {\n",
       "            background-color:  #ffff66;\n",
       "        }    #T_bb7d332c_008b_11ea_848a_1002b5e8806drow2_col2 {\n",
       "            background-color:  #f1f866;\n",
       "        }    #T_bb7d332c_008b_11ea_848a_1002b5e8806drow2_col3 {\n",
       "            background-color:  #ffff66;\n",
       "        }    #T_bb7d332c_008b_11ea_848a_1002b5e8806drow2_col4 {\n",
       "            background-color:  #b4da66;\n",
       "        }    #T_bb7d332c_008b_11ea_848a_1002b5e8806drow2_col5 {\n",
       "            background-color:  #ffff66;\n",
       "        }    #T_bb7d332c_008b_11ea_848a_1002b5e8806drow2_col6 {\n",
       "            background-color:  #fdfe66;\n",
       "        }    #T_bb7d332c_008b_11ea_848a_1002b5e8806drow3_col0 {\n",
       "            background-color:  #ffff66;\n",
       "        }    #T_bb7d332c_008b_11ea_848a_1002b5e8806drow3_col1 {\n",
       "            background-color:  #eff766;\n",
       "        }    #T_bb7d332c_008b_11ea_848a_1002b5e8806drow3_col2 {\n",
       "            background-color:  #ffff66;\n",
       "        }    #T_bb7d332c_008b_11ea_848a_1002b5e8806drow3_col3 {\n",
       "            background-color:  #f9fc66;\n",
       "        }    #T_bb7d332c_008b_11ea_848a_1002b5e8806drow3_col4 {\n",
       "            background-color:  #fafc66;\n",
       "        }    #T_bb7d332c_008b_11ea_848a_1002b5e8806drow3_col5 {\n",
       "            background-color:  #d7eb66;\n",
       "        }    #T_bb7d332c_008b_11ea_848a_1002b5e8806drow3_col6 {\n",
       "            background-color:  #fafc66;\n",
       "        }    #T_bb7d332c_008b_11ea_848a_1002b5e8806drow4_col0 {\n",
       "            background-color:  #cbe566;\n",
       "        }    #T_bb7d332c_008b_11ea_848a_1002b5e8806drow4_col1 {\n",
       "            background-color:  #e9f466;\n",
       "        }    #T_bb7d332c_008b_11ea_848a_1002b5e8806drow4_col2 {\n",
       "            background-color:  #55aa66;\n",
       "        }    #T_bb7d332c_008b_11ea_848a_1002b5e8806drow4_col3 {\n",
       "            background-color:  #edf666;\n",
       "        }    #T_bb7d332c_008b_11ea_848a_1002b5e8806drow4_col4 {\n",
       "            background-color:  #d8ec66;\n",
       "        }    #T_bb7d332c_008b_11ea_848a_1002b5e8806drow4_col5 {\n",
       "            background-color:  #f4fa66;\n",
       "        }    #T_bb7d332c_008b_11ea_848a_1002b5e8806drow4_col6 {\n",
       "            background-color:  #f3f966;\n",
       "        }    #T_bb7d332c_008b_11ea_848a_1002b5e8806drow5_col0 {\n",
       "            background-color:  #e3f166;\n",
       "        }    #T_bb7d332c_008b_11ea_848a_1002b5e8806drow5_col1 {\n",
       "            background-color:  #aad466;\n",
       "        }    #T_bb7d332c_008b_11ea_848a_1002b5e8806drow5_col2 {\n",
       "            background-color:  #bfdf66;\n",
       "        }    #T_bb7d332c_008b_11ea_848a_1002b5e8806drow5_col3 {\n",
       "            background-color:  #1f8f66;\n",
       "        }    #T_bb7d332c_008b_11ea_848a_1002b5e8806drow5_col4 {\n",
       "            background-color:  #bcde66;\n",
       "        }    #T_bb7d332c_008b_11ea_848a_1002b5e8806drow5_col5 {\n",
       "            background-color:  #7ebe66;\n",
       "        }    #T_bb7d332c_008b_11ea_848a_1002b5e8806drow5_col6 {\n",
       "            background-color:  #a3d166;\n",
       "        }    #T_bb7d332c_008b_11ea_848a_1002b5e8806drow6_col0 {\n",
       "            background-color:  #008066;\n",
       "        }    #T_bb7d332c_008b_11ea_848a_1002b5e8806drow6_col1 {\n",
       "            background-color:  #008066;\n",
       "        }    #T_bb7d332c_008b_11ea_848a_1002b5e8806drow6_col2 {\n",
       "            background-color:  #008066;\n",
       "        }    #T_bb7d332c_008b_11ea_848a_1002b5e8806drow6_col3 {\n",
       "            background-color:  #008066;\n",
       "        }    #T_bb7d332c_008b_11ea_848a_1002b5e8806drow6_col4 {\n",
       "            background-color:  #008066;\n",
       "        }    #T_bb7d332c_008b_11ea_848a_1002b5e8806drow6_col5 {\n",
       "            background-color:  #008066;\n",
       "        }    #T_bb7d332c_008b_11ea_848a_1002b5e8806drow6_col6 {\n",
       "            background-color:  #008066;\n",
       "        }</style>  \n",
       "<table id=\"T_bb7d332c_008b_11ea_848a_1002b5e8806d\" > \n",
       "<thead>    <tr> \n",
       "        <th class=\"blank\" ></th> \n",
       "        <th class=\"index_name level0\" >Embarked</th> \n",
       "        <th class=\"col_heading level0 col0\" colspan=2>C</th> \n",
       "        <th class=\"col_heading level0 col2\" colspan=2>Q</th> \n",
       "        <th class=\"col_heading level0 col4\" colspan=2>S</th> \n",
       "        <th class=\"col_heading level0 col6\" >All</th> \n",
       "    </tr>    <tr> \n",
       "        <th class=\"blank\" ></th> \n",
       "        <th class=\"index_name level1\" >Sex</th> \n",
       "        <th class=\"col_heading level1 col0\" >female</th> \n",
       "        <th class=\"col_heading level1 col1\" >male</th> \n",
       "        <th class=\"col_heading level1 col2\" >female</th> \n",
       "        <th class=\"col_heading level1 col3\" >male</th> \n",
       "        <th class=\"col_heading level1 col4\" >female</th> \n",
       "        <th class=\"col_heading level1 col5\" >male</th> \n",
       "        <th class=\"col_heading level1 col6\" ></th> \n",
       "    </tr>    <tr> \n",
       "        <th class=\"index_name level0\" >Pclass</th> \n",
       "        <th class=\"index_name level1\" >Survived_group</th> \n",
       "        <th class=\"blank\" ></th> \n",
       "        <th class=\"blank\" ></th> \n",
       "        <th class=\"blank\" ></th> \n",
       "        <th class=\"blank\" ></th> \n",
       "        <th class=\"blank\" ></th> \n",
       "        <th class=\"blank\" ></th> \n",
       "        <th class=\"blank\" ></th> \n",
       "    </tr></thead> \n",
       "<tbody>    <tr> \n",
       "        <th id=\"T_bb7d332c_008b_11ea_848a_1002b5e8806dlevel0_row0\" class=\"row_heading level0 row0\" rowspan=2>1</th> \n",
       "        <th id=\"T_bb7d332c_008b_11ea_848a_1002b5e8806dlevel1_row0\" class=\"row_heading level1 row0\" >Alive</th> \n",
       "        <td id=\"T_bb7d332c_008b_11ea_848a_1002b5e8806drow0_col0\" class=\"data row0 col0\" >42</td> \n",
       "        <td id=\"T_bb7d332c_008b_11ea_848a_1002b5e8806drow0_col1\" class=\"data row0 col1\" >17</td> \n",
       "        <td id=\"T_bb7d332c_008b_11ea_848a_1002b5e8806drow0_col2\" class=\"data row0 col2\" >1</td> \n",
       "        <td id=\"T_bb7d332c_008b_11ea_848a_1002b5e8806drow0_col3\" class=\"data row0 col3\" >0</td> \n",
       "        <td id=\"T_bb7d332c_008b_11ea_848a_1002b5e8806drow0_col4\" class=\"data row0 col4\" >46</td> \n",
       "        <td id=\"T_bb7d332c_008b_11ea_848a_1002b5e8806drow0_col5\" class=\"data row0 col5\" >28</td> \n",
       "        <td id=\"T_bb7d332c_008b_11ea_848a_1002b5e8806drow0_col6\" class=\"data row0 col6\" >134</td> \n",
       "    </tr>    <tr> \n",
       "        <th id=\"T_bb7d332c_008b_11ea_848a_1002b5e8806dlevel1_row1\" class=\"row_heading level1 row1\" >Dead</th> \n",
       "        <td id=\"T_bb7d332c_008b_11ea_848a_1002b5e8806drow1_col0\" class=\"data row1 col0\" >1</td> \n",
       "        <td id=\"T_bb7d332c_008b_11ea_848a_1002b5e8806drow1_col1\" class=\"data row1 col1\" >25</td> \n",
       "        <td id=\"T_bb7d332c_008b_11ea_848a_1002b5e8806drow1_col2\" class=\"data row1 col2\" >0</td> \n",
       "        <td id=\"T_bb7d332c_008b_11ea_848a_1002b5e8806drow1_col3\" class=\"data row1 col3\" >1</td> \n",
       "        <td id=\"T_bb7d332c_008b_11ea_848a_1002b5e8806drow1_col4\" class=\"data row1 col4\" >2</td> \n",
       "        <td id=\"T_bb7d332c_008b_11ea_848a_1002b5e8806drow1_col5\" class=\"data row1 col5\" >51</td> \n",
       "        <td id=\"T_bb7d332c_008b_11ea_848a_1002b5e8806drow1_col6\" class=\"data row1 col6\" >80</td> \n",
       "    </tr>    <tr> \n",
       "        <th id=\"T_bb7d332c_008b_11ea_848a_1002b5e8806dlevel0_row2\" class=\"row_heading level0 row2\" rowspan=2>2</th> \n",
       "        <th id=\"T_bb7d332c_008b_11ea_848a_1002b5e8806dlevel1_row2\" class=\"row_heading level1 row2\" >Alive</th> \n",
       "        <td id=\"T_bb7d332c_008b_11ea_848a_1002b5e8806drow2_col0\" class=\"data row2 col0\" >7</td> \n",
       "        <td id=\"T_bb7d332c_008b_11ea_848a_1002b5e8806drow2_col1\" class=\"data row2 col1\" >2</td> \n",
       "        <td id=\"T_bb7d332c_008b_11ea_848a_1002b5e8806drow2_col2\" class=\"data row2 col2\" >2</td> \n",
       "        <td id=\"T_bb7d332c_008b_11ea_848a_1002b5e8806drow2_col3\" class=\"data row2 col3\" >0</td> \n",
       "        <td id=\"T_bb7d332c_008b_11ea_848a_1002b5e8806drow2_col4\" class=\"data row2 col4\" >61</td> \n",
       "        <td id=\"T_bb7d332c_008b_11ea_848a_1002b5e8806drow2_col5\" class=\"data row2 col5\" >15</td> \n",
       "        <td id=\"T_bb7d332c_008b_11ea_848a_1002b5e8806drow2_col6\" class=\"data row2 col6\" >87</td> \n",
       "    </tr>    <tr> \n",
       "        <th id=\"T_bb7d332c_008b_11ea_848a_1002b5e8806dlevel1_row3\" class=\"row_heading level1 row3\" >Dead</th> \n",
       "        <td id=\"T_bb7d332c_008b_11ea_848a_1002b5e8806drow3_col0\" class=\"data row3 col0\" >0</td> \n",
       "        <td id=\"T_bb7d332c_008b_11ea_848a_1002b5e8806drow3_col1\" class=\"data row3 col1\" >8</td> \n",
       "        <td id=\"T_bb7d332c_008b_11ea_848a_1002b5e8806drow3_col2\" class=\"data row3 col2\" >0</td> \n",
       "        <td id=\"T_bb7d332c_008b_11ea_848a_1002b5e8806drow3_col3\" class=\"data row3 col3\" >1</td> \n",
       "        <td id=\"T_bb7d332c_008b_11ea_848a_1002b5e8806drow3_col4\" class=\"data row3 col4\" >6</td> \n",
       "        <td id=\"T_bb7d332c_008b_11ea_848a_1002b5e8806drow3_col5\" class=\"data row3 col5\" >82</td> \n",
       "        <td id=\"T_bb7d332c_008b_11ea_848a_1002b5e8806drow3_col6\" class=\"data row3 col6\" >97</td> \n",
       "    </tr>    <tr> \n",
       "        <th id=\"T_bb7d332c_008b_11ea_848a_1002b5e8806dlevel0_row4\" class=\"row_heading level0 row4\" rowspan=2>3</th> \n",
       "        <th id=\"T_bb7d332c_008b_11ea_848a_1002b5e8806dlevel1_row4\" class=\"row_heading level1 row4\" >Alive</th> \n",
       "        <td id=\"T_bb7d332c_008b_11ea_848a_1002b5e8806drow4_col0\" class=\"data row4 col0\" >15</td> \n",
       "        <td id=\"T_bb7d332c_008b_11ea_848a_1002b5e8806drow4_col1\" class=\"data row4 col1\" >10</td> \n",
       "        <td id=\"T_bb7d332c_008b_11ea_848a_1002b5e8806drow4_col2\" class=\"data row4 col2\" >24</td> \n",
       "        <td id=\"T_bb7d332c_008b_11ea_848a_1002b5e8806drow4_col3\" class=\"data row4 col3\" >3</td> \n",
       "        <td id=\"T_bb7d332c_008b_11ea_848a_1002b5e8806drow4_col4\" class=\"data row4 col4\" >33</td> \n",
       "        <td id=\"T_bb7d332c_008b_11ea_848a_1002b5e8806drow4_col5\" class=\"data row4 col5\" >34</td> \n",
       "        <td id=\"T_bb7d332c_008b_11ea_848a_1002b5e8806drow4_col6\" class=\"data row4 col6\" >119</td> \n",
       "    </tr>    <tr> \n",
       "        <th id=\"T_bb7d332c_008b_11ea_848a_1002b5e8806dlevel1_row5\" class=\"row_heading level1 row5\" >Dead</th> \n",
       "        <td id=\"T_bb7d332c_008b_11ea_848a_1002b5e8806drow5_col0\" class=\"data row5 col0\" >8</td> \n",
       "        <td id=\"T_bb7d332c_008b_11ea_848a_1002b5e8806drow5_col1\" class=\"data row5 col1\" >33</td> \n",
       "        <td id=\"T_bb7d332c_008b_11ea_848a_1002b5e8806drow5_col2\" class=\"data row5 col2\" >9</td> \n",
       "        <td id=\"T_bb7d332c_008b_11ea_848a_1002b5e8806drow5_col3\" class=\"data row5 col3\" >36</td> \n",
       "        <td id=\"T_bb7d332c_008b_11ea_848a_1002b5e8806drow5_col4\" class=\"data row5 col4\" >55</td> \n",
       "        <td id=\"T_bb7d332c_008b_11ea_848a_1002b5e8806drow5_col5\" class=\"data row5 col5\" >231</td> \n",
       "        <td id=\"T_bb7d332c_008b_11ea_848a_1002b5e8806drow5_col6\" class=\"data row5 col6\" >372</td> \n",
       "    </tr>    <tr> \n",
       "        <th id=\"T_bb7d332c_008b_11ea_848a_1002b5e8806dlevel0_row6\" class=\"row_heading level0 row6\" >All</th> \n",
       "        <th id=\"T_bb7d332c_008b_11ea_848a_1002b5e8806dlevel1_row6\" class=\"row_heading level1 row6\" ></th> \n",
       "        <td id=\"T_bb7d332c_008b_11ea_848a_1002b5e8806drow6_col0\" class=\"data row6 col0\" >73</td> \n",
       "        <td id=\"T_bb7d332c_008b_11ea_848a_1002b5e8806drow6_col1\" class=\"data row6 col1\" >95</td> \n",
       "        <td id=\"T_bb7d332c_008b_11ea_848a_1002b5e8806drow6_col2\" class=\"data row6 col2\" >36</td> \n",
       "        <td id=\"T_bb7d332c_008b_11ea_848a_1002b5e8806drow6_col3\" class=\"data row6 col3\" >41</td> \n",
       "        <td id=\"T_bb7d332c_008b_11ea_848a_1002b5e8806drow6_col4\" class=\"data row6 col4\" >203</td> \n",
       "        <td id=\"T_bb7d332c_008b_11ea_848a_1002b5e8806drow6_col5\" class=\"data row6 col5\" >441</td> \n",
       "        <td id=\"T_bb7d332c_008b_11ea_848a_1002b5e8806drow6_col6\" class=\"data row6 col6\" >889</td> \n",
       "    </tr></tbody> \n",
       "</table> "
      ],
      "text/plain": [
       "<pandas.io.formats.style.Styler at 0xbfe2ba8>"
      ]
     },
     "execution_count": 20,
     "metadata": {},
     "output_type": "execute_result"
    }
   ],
   "source": [
    "pd.crosstab([titanic['Pclass'],titanic['Survived_group']],[titanic['Embarked'],titanic['Sex']],\\\n",
    "            margins=True).style.background_gradient(cmap='summer_r')"
   ]
  },
  {
   "cell_type": "code",
   "execution_count": 22,
   "metadata": {},
   "outputs": [
    {
     "data": {
      "image/png": "[encoded data removed]",
      "text/plain": [
       "<Figure size 1008x720 with 6 Axes>"
      ]
     },
     "metadata": {
      "needs_background": "light"
     },
     "output_type": "display_data"
    }
   ],
   "source": [
    "fig, axes = plt.subplots(3, 2,figsize=(14, 10));\n",
    "\n",
    "Cherbourg = titanic[titanic['Embarked']=='C']\n",
    "Queenstown = titanic[titanic['Embarked']=='Q']\n",
    "Southampton = titanic[titanic['Embarked']=='S']\n",
    "\n",
    "a = sns.countplot('Pclass',hue='Survived_group',data=Cherbourg,ax=axes[0,0],palette={'Alive':'green','Dead':'grey'},hue_order={'Alive','Dead'})\n",
    "axes[0,0].set_xlabel('Ticket Class')\n",
    "axes[0,0].set_title('Cherbourg\\nTitanic Survivors Based on Ticket Class')\n",
    "\n",
    "b = sns.countplot('Age_group',hue='Survived_group',data=Cherbourg,ax=axes[0,1],palette={'Alive':'green','Dead':'grey'},hue_order={'Alive','Dead'})\n",
    "axes[0,1].set_xlabel('Age Group')\n",
    "axes[0,1].set_title('Cherbourg\\nTitanic Survivors Based on Age Group')\n",
    "\n",
    "c = sns.countplot('Pclass',hue='Survived_group',data=Queenstown,ax=axes[1,0],palette={'Alive':'green','Dead':'grey'},hue_order={'Alive','Dead'})\n",
    "axes[1,0].set_xlabel('Ticket Class')\n",
    "axes[1,0].set_title('Queenstown\\nTitanic Survivors Based on Ticket Class')\n",
    "\n",
    "d = sns.countplot('Age_group',hue='Survived_group',data=Queenstown,ax=axes[1,1],palette={'Alive':'green','Dead':'grey'},hue_order={'Alive','Dead'})\n",
    "axes[1,1].set_xlabel('Age Group')\n",
    "axes[1,1].set_title('Queenstown\\nTitanic Survivors Based on Age Group')\n",
    "\n",
    "e = sns.countplot('Pclass',hue='Survived_group',data=Southampton,ax=axes[2,0],palette={'Alive':'green','Dead':'grey'},hue_order={'Alive','Dead'})\n",
    "axes[2,0].set_xlabel('Ticket Class')\n",
    "axes[2,0].set_title('Queenstown\\nTitanic Survivors Based on Ticket Class')\n",
    "\n",
    "f = sns.countplot('Age_group',hue='Survived_group',data=Southampton,ax=axes[2,1],palette={'Alive':'green','Dead':'grey'},hue_order={'Alive','Dead'})\n",
    "axes[2,1].set_xlabel('Age Group')\n",
    "axes[2,1].set_title('Queenstown\\nTitanic Survivors Based on Age Group')\n",
    "\n",
    "fig.tight_layout()\n",
    "fig.savefig('fig_tgs/Survival Rate Based on Embarked.png')"
   ]
  },
  {
   "cell_type": "markdown",
   "metadata": {},
   "source": [
    "- Most first class passengers are from Cherbourg\n",
    "- Most passengers who survived from Cherbough were in the Young Adult category\n",
    "- Passengers from Queenstown buy most are 3rd class tickets\n",
    "- The most died passenger segment from Queenstown is the Young Adult category"
   ]
  },
  {
   "cell_type": "code",
   "execution_count": 23,
   "metadata": {},
   "outputs": [
    {
     "data": {
      "image/png": "[encoded data removed]",
      "text/plain": [
       "<Figure size 864x432 with 2 Axes>"
      ]
     },
     "metadata": {
      "needs_background": "light"
     },
     "output_type": "display_data"
    }
   ],
   "source": [
    "fig, axes = plt.subplots(1, 2,figsize=(12, 6))\n",
    "\n",
    "female = titanic[titanic['Sex']=='female']\n",
    "male = titanic[titanic['Sex']=='male']\n",
    "\n",
    "a = sns.scatterplot(x='Age', y='Fare', hue='Survived_group', data=female, ax=axes[0], palette={'Alive':'green','Dead':'grey'}, hue_order={'Alive','Dead'})\n",
    "b = sns.scatterplot(x='Age', y='Fare', hue='Survived_group', data=male, ax=axes[1], palette={'Alive':'green','Dead':'grey'}, hue_order={'Alive','Dead'})\n",
    "\n",
    "axes[0].set_title('Female passenger by Fare')\n",
    "axes[1].set_title('Male passenger by are')\n",
    "\n",
    "fig.savefig('fig_tgs/Scatterplot.png')"
   ]
  },
  {
   "cell_type": "markdown",
   "metadata": {},
   "source": [
    "most of male passengers who pay less are victims"
   ]
  },
  {
   "cell_type": "markdown",
   "metadata": {},
   "source": []
  }
 ],
 "metadata": {
  "kernelspec": {
   "display_name": "Python 3",
   "language": "python",
   "name": "python3"
  },
  "language_info": {
   "codemirror_mode": {
    "name": "ipython",
    "version": 3
   },
   "file_extension": ".py",
   "mimetype": "text/x-python",
   "name": "python",
   "nbconvert_exporter": "python",
   "pygments_lexer": "ipython3",
   "version": "3.7.0"
  }
 },
 "nbformat": 4,
 "nbformat_minor": 2
}
